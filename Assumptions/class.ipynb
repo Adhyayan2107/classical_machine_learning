{
 "cells": [
  {
   "cell_type": "code",
   "execution_count": 4,
   "id": "93c66576",
   "metadata": {},
   "outputs": [],
   "source": [
    "# We do hypothesis testing to know whether a feature is helping in prediction && and affecting the model positively"
   ]
  },
  {
   "cell_type": "code",
   "execution_count": null,
   "id": "4bd2765c",
   "metadata": {},
   "outputs": [],
   "source": [
    "# w = 0 (no affect)\n",
    "# w != 0 (affecting)"
   ]
  },
  {
   "cell_type": "code",
   "execution_count": 2,
   "id": "61dfb8b8",
   "metadata": {},
   "outputs": [],
   "source": [
    "# Sampling Distribution: Distributing sample on a graph around the mean of the entire dataset (mainly bell curve)\n",
    "# If p_value < alpha then weights have significant affect , we reject null hypothesis"
   ]
  },
  {
   "cell_type": "code",
   "execution_count": 3,
   "id": "0f6821cd",
   "metadata": {},
   "outputs": [],
   "source": [
    "# RFE (Recursive Feature Elimnation)\n",
    "# It will find the p_value's of each feature for the model and keep on dropping those features having highest p_value means \n",
    "# insignifact feature and it stops when 2 features are left.. (A rank is provided on the basis of significance)"
   ]
  },
  {
   "cell_type": "code",
   "execution_count": 13,
   "id": "41a2669a",
   "metadata": {},
   "outputs": [],
   "source": [
    "import pandas as pd\n",
    "df = pd.read_csv('./Housing.csv')"
   ]
  },
  {
   "cell_type": "code",
   "execution_count": null,
   "id": "6aae1b92",
   "metadata": {},
   "outputs": [],
   "source": [
    "import statsmodels.api as sm\n",
    "sm.add_constant(x_train)"
   ]
  },
  {
   "cell_type": "code",
   "execution_count": null,
   "id": "54567912",
   "metadata": {},
   "outputs": [],
   "source": [
    "# Assumptions of Linear Regression\n",
    "# Linearity:- There is a linear relationship between target and features\n",
    "# No MultiCollinearity: [ Multicollinearity :- Presence of two-or more corelated independent features ] (keeping same will cost in computation with no significant result)\n",
    "# "
   ]
  },
  {
   "cell_type": "code",
   "execution_count": null,
   "id": "8c082efc",
   "metadata": {},
   "outputs": [],
   "source": []
  }
 ],
 "metadata": {
  "kernelspec": {
   "display_name": "Python 3",
   "language": "python",
   "name": "python3"
  },
  "language_info": {
   "codemirror_mode": {
    "name": "ipython",
    "version": 3
   },
   "file_extension": ".py",
   "mimetype": "text/x-python",
   "name": "python",
   "nbconvert_exporter": "python",
   "pygments_lexer": "ipython3",
   "version": "3.13.3"
  }
 },
 "nbformat": 4,
 "nbformat_minor": 5
}
