{
 "cells": [
  {
   "cell_type": "code",
   "execution_count": null,
   "id": "2e72abe2",
   "metadata": {},
   "outputs": [],
   "source": [
    "import pandas as pd\n",
    "# Logistic Regression:- Find best set of w vector such that we can classify the different variables\n",
    "# We use the distance of points from lines as classifying between two set of data \n",
    "# Problem 1 :- As this will create a step function which is not differentiable\n",
    "# Problem 2 :- The actual distance of points does not create much sense (No standard scale) and we cannot show the confidence in our classification\n",
    "\n",
    "# Sigmoid Function:-  1/(1 + e^(-z)) (range from 0 to 1)\n",
    "# For class-0 P(y=1|x) as low as possible and (P(y=0|x)) OR (1 - P(y=1|x)) as high as possible\n",
    "# As the probability of data points do not depend on each other so we can multiply them \n",
    "# Pie(i = n) Pi(y=1|x) * (1 - Pi(y=1|x)) Our goal is to maximize this as high as possible\n",
    "# Pie(i=n) (Pi)^(yi) * (1 - Pi)^(1 - yi)\n",
    "# This is called maximize Likelihood equation\n",
    "# As it is hard to differentiate multiplication equation we take log to make it differentiable\n",
    "# Likelihood equation (f(x)) = Sigma (yi)(log(Pi)) + Sigma ((1 - yi)(log(Pi)))\n",
    "# As gradient descent minimizes the loss but we need to maximize the loss (hence we multiply the equation by -1)(divide by n to take average)\n",
    "# Likelihood Equation = -(f(x))/n\n"
   ]
  },
  {
   "cell_type": "code",
   "execution_count": null,
   "id": "06669e26",
   "metadata": {},
   "outputs": [],
   "source": []
  }
 ],
 "metadata": {
  "kernelspec": {
   "display_name": "Python 3",
   "language": "python",
   "name": "python3"
  },
  "language_info": {
   "codemirror_mode": {
    "name": "ipython",
    "version": 3
   },
   "file_extension": ".py",
   "mimetype": "text/x-python",
   "name": "python",
   "nbconvert_exporter": "python",
   "pygments_lexer": "ipython3",
   "version": "3.13.3"
  }
 },
 "nbformat": 4,
 "nbformat_minor": 5
}
