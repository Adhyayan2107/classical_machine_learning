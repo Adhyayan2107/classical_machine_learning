{
 "cells": [
  {
   "cell_type": "code",
   "execution_count": null,
   "id": "2cb8239c",
   "metadata": {},
   "outputs": [],
   "source": [
    "import pandas as pd\n",
    "# 10 12 11 3 4 89 32 34\n",
    "# Creating a descision tree as a if else\n",
    "# We divide the dataset with a flowchart-like structure tree to different nodes and edges as Yes or No"
   ]
  },
  {
   "cell_type": "code",
   "execution_count": null,
   "id": "c921f862",
   "metadata": {},
   "outputs": [],
   "source": [
    "# Concept of Impurity Measures\n",
    "## Impurity Measure: Quantitaive value that how many classes are present in the node/dataset\n",
    "## The objective of the DT Algorithm to minimize the node impurity by finding the boundaries"
   ]
  },
  {
   "cell_type": "code",
   "execution_count": null,
   "id": "981e7c97",
   "metadata": {},
   "outputs": [],
   "source": [
    "# The first node is found by the column having highest impurity"
   ]
  },
  {
   "cell_type": "code",
   "execution_count": null,
   "id": "46aac9a1",
   "metadata": {},
   "outputs": [],
   "source": [
    "# Impurity Measures\n",
    "# Entropy:- "
   ]
  },
  {
   "cell_type": "code",
   "execution_count": 39,
   "id": "b400f647",
   "metadata": {},
   "outputs": [],
   "source": [
    "import numpy as np\n",
    "def entropy(p1 , p2):\n",
    "    if p1 == 0 and p2 == 0:\n",
    "        return 0\n",
    "    entropy_val = 0\n",
    "    if p1 > 0:\n",
    "        entropy_val -= p1 * np.log2(p1)\n",
    "    if p2 > 0:\n",
    "        entropy_val -= p2 * np.log2(p2)\n",
    "    return entropy_val"
   ]
  },
  {
   "cell_type": "code",
   "execution_count": 11,
   "id": "9ea9214a",
   "metadata": {},
   "outputs": [
    {
     "data": {
      "text/plain": [
       "np.float64(0.9402859586706311)"
      ]
     },
     "execution_count": 11,
     "metadata": {},
     "output_type": "execute_result"
    }
   ],
   "source": [
    "entropy(5/14 , 9/14)"
   ]
  },
  {
   "cell_type": "code",
   "execution_count": null,
   "id": "2934d258",
   "metadata": {},
   "outputs": [],
   "source": [
    "## for independent variable find the reduction in the impurity , if we chose that independent variable as a split rule"
   ]
  },
  {
   "cell_type": "code",
   "execution_count": 12,
   "id": "fd8ef64e",
   "metadata": {},
   "outputs": [
    {
     "data": {
      "text/plain": [
       "np.float64(0.9110633930116763)"
      ]
     },
     "execution_count": 12,
     "metadata": {},
     "output_type": "execute_result"
    }
   ],
   "source": [
    "## Entropy for temp\n",
    "(4/14) * (entropy(2/4 , 2/4)) + (4/14) * (entropy(3/4 , 1/4)) + (6/14) * (entropy(4/6 , 2/6))"
   ]
  },
  {
   "cell_type": "code",
   "execution_count": 13,
   "id": "016e5293",
   "metadata": {},
   "outputs": [
    {
     "data": {
      "text/plain": [
       "np.float64(0.7884504573082896)"
      ]
     },
     "execution_count": 13,
     "metadata": {},
     "output_type": "execute_result"
    }
   ],
   "source": [
    "## Entropy for Humidity\n",
    "(7/14) * ((entropy(6/7 , 1/7)) + (entropy(3/7 , 4/7)))"
   ]
  },
  {
   "cell_type": "code",
   "execution_count": null,
   "id": "336ef5d8",
   "metadata": {},
   "outputs": [],
   "source": [
    "## Reduction = Overall - Entropy(column)\n",
    "### Choose the column with maximum gain/reduction "
   ]
  },
  {
   "cell_type": "code",
   "execution_count": 19,
   "id": "e6eed1c3",
   "metadata": {},
   "outputs": [
    {
     "data": {
      "text/html": [
       "<div>\n",
       "<style scoped>\n",
       "    .dataframe tbody tr th:only-of-type {\n",
       "        vertical-align: middle;\n",
       "    }\n",
       "\n",
       "    .dataframe tbody tr th {\n",
       "        vertical-align: top;\n",
       "    }\n",
       "\n",
       "    .dataframe thead th {\n",
       "        text-align: right;\n",
       "    }\n",
       "</style>\n",
       "<table border=\"1\" class=\"dataframe\">\n",
       "  <thead>\n",
       "    <tr style=\"text-align: right;\">\n",
       "      <th></th>\n",
       "      <th>Gender</th>\n",
       "      <th>Car_Type</th>\n",
       "      <th>Shirt_Size</th>\n",
       "      <th>Class</th>\n",
       "    </tr>\n",
       "  </thead>\n",
       "  <tbody>\n",
       "    <tr>\n",
       "      <th>0</th>\n",
       "      <td>M</td>\n",
       "      <td>Family</td>\n",
       "      <td>S</td>\n",
       "      <td>C0</td>\n",
       "    </tr>\n",
       "    <tr>\n",
       "      <th>1</th>\n",
       "      <td>M</td>\n",
       "      <td>Sports</td>\n",
       "      <td>M</td>\n",
       "      <td>C0</td>\n",
       "    </tr>\n",
       "    <tr>\n",
       "      <th>2</th>\n",
       "      <td>M</td>\n",
       "      <td>Sports</td>\n",
       "      <td>M</td>\n",
       "      <td>C0</td>\n",
       "    </tr>\n",
       "    <tr>\n",
       "      <th>3</th>\n",
       "      <td>M</td>\n",
       "      <td>Sports</td>\n",
       "      <td>L</td>\n",
       "      <td>C0</td>\n",
       "    </tr>\n",
       "    <tr>\n",
       "      <th>4</th>\n",
       "      <td>M</td>\n",
       "      <td>Sports</td>\n",
       "      <td>XL</td>\n",
       "      <td>C0</td>\n",
       "    </tr>\n",
       "  </tbody>\n",
       "</table>\n",
       "</div>"
      ],
      "text/plain": [
       "  Gender Car_Type Shirt_Size Class\n",
       "0      M   Family          S    C0\n",
       "1      M   Sports          M    C0\n",
       "2      M   Sports          M    C0\n",
       "3      M   Sports          L    C0\n",
       "4      M   Sports         XL    C0"
      ]
     },
     "execution_count": 19,
     "metadata": {},
     "output_type": "execute_result"
    }
   ],
   "source": [
    "import pandas as pd\n",
    "\n",
    "df = pd.DataFrame({\n",
    "    \"Gender\": ['M', 'M', 'M', 'M', 'M', 'M', 'F', 'F', 'F', 'F', \n",
    "               'M', 'M', 'M', 'M', 'F', 'F', 'F', 'F', 'F', 'F'],\n",
    "    \"Car_Type\": [\"Family\", \"Sports\", \"Sports\", \"Sports\", \"Sports\", \"Sports\", \n",
    "                 \"Sports\", \"Sports\", \"Sports\", \"Luxury\", \"Family\", \"Family\", \"Family\", \n",
    "                 \"Luxury\", \"Luxury\", \"Luxury\", \"Luxury\", \"Luxury\", \"Luxury\", \"Luxury\"],\n",
    "    \"Shirt_Size\": [\"S\", \"M\", \"M\", \"L\", \"XL\", \"XL\", \"S\", \"S\", \"M\", \"L\", \n",
    "                   \"L\", \"XL\", \"M\", \"XL\", \"S\", \"S\", \"M\", \"M\", \"M\", \"L\"],\n",
    "    \"Class\": [\"C0\", \"C0\", \"C0\", \"C0\", \"C0\", \"C0\", \"C0\", \"C0\", \"C0\", \"C0\", \n",
    "              \"C1\", \"C1\", \"C1\", \"C1\", \"C1\", \"C1\", \"C1\", \"C1\", \"C1\", \"C1\"]\n",
    "})\n",
    "\n",
    "df.head()"
   ]
  },
  {
   "cell_type": "code",
   "execution_count": 21,
   "id": "e1648640",
   "metadata": {},
   "outputs": [
    {
     "data": {
      "text/plain": [
       "np.float64(1.0)"
      ]
     },
     "execution_count": 21,
     "metadata": {},
     "output_type": "execute_result"
    }
   ],
   "source": [
    "## OverAll Entropy\n",
    "df.Class.value_counts()\n",
    "entropy(10/20 , 10/20)"
   ]
  },
  {
   "cell_type": "code",
   "execution_count": 29,
   "id": "3ef0b3a7",
   "metadata": {},
   "outputs": [],
   "source": [
    "# Gender Entropy\n",
    "total_male = df[(df.Gender==\"M\")].shape[0]\n",
    "total_female = df[(df.Gender==\"F\")].shape[0]\n",
    "male_yes = df[(df.Gender==\"M\") & (df.Class ==\"C0\")].shape[0]\n",
    "male_no = total_male - male_yes\n",
    "female_yes = df[(df.Gender==\"F\") & (df.Class ==\"C0\")].shape[0]\n",
    "female_no = total_female - female_yes"
   ]
  },
  {
   "cell_type": "code",
   "execution_count": 30,
   "id": "d6b57832",
   "metadata": {},
   "outputs": [
    {
     "data": {
      "text/plain": [
       "np.float64(0.9709505944546686)"
      ]
     },
     "execution_count": 30,
     "metadata": {},
     "output_type": "execute_result"
    }
   ],
   "source": [
    "total_male/20 * entropy(male_yes/total_male , male_no/total_male) + total_female/20 * entropy(female_no/total_female , female_yes/total_female)"
   ]
  },
  {
   "cell_type": "code",
   "execution_count": 41,
   "id": "b96fe019",
   "metadata": {},
   "outputs": [
    {
     "data": {
      "text/plain": [
       "np.float64(0.15000000000000002)"
      ]
     },
     "execution_count": 41,
     "metadata": {},
     "output_type": "execute_result"
    }
   ],
   "source": [
    "## CarType Entropy\n",
    "df.Car_Type.value_counts()\n",
    "total_sports = df[df.Car_Type == \"Sports\"].shape[0]\n",
    "total_luxury =  df[df.Car_Type == \"Luxury\"].shape[0]\n",
    "total_family =  df[df.Car_Type == \"Family\"].shape[0]\n",
    "total_sports_yes = df[(df.Car_Type == \"Sports\") & (df.Class == \"C0\")].shape[0]\n",
    "total_luxury_yes = df[(df.Car_Type == \"Luxury\") & (df.Class == \"C0\")].shape[0]\n",
    "total_family_yes = df[(df.Car_Type == \"Family\") & (df.Class == \"C0\")].shape[0]\n",
    "total_sports/20*(entropy(total_sports_yes / total_sports , (1- total_sports_yes)/total_sports))\n",
    "+ total_family/20*(entropy(total_family_yes / total_family , (1- total_family_yes)/total_family))\n",
    "+ total_luxury/20*(entropy(total_luxury_yes / total_luxury , (1- total_luxury_yes)/total_luxury))"
   ]
  },
  {
   "cell_type": "code",
   "execution_count": 43,
   "id": "c9185d55",
   "metadata": {},
   "outputs": [
    {
     "data": {
      "text/plain": [
       "Shirt_Size  Class\n",
       "L           C0       2\n",
       "            C1       2\n",
       "M           C1       4\n",
       "            C0       3\n",
       "S           C0       3\n",
       "            C1       2\n",
       "XL          C0       2\n",
       "            C1       2\n",
       "Name: count, dtype: int64"
      ]
     },
     "execution_count": 43,
     "metadata": {},
     "output_type": "execute_result"
    }
   ],
   "source": [
    "df.drop(columns=['Car_Type' , 'Gender']).groupby('Shirt_Size').value_counts()"
   ]
  }
 ],
 "metadata": {
  "kernelspec": {
   "display_name": "Python 3",
   "language": "python",
   "name": "python3"
  },
  "language_info": {
   "codemirror_mode": {
    "name": "ipython",
    "version": 3
   },
   "file_extension": ".py",
   "mimetype": "text/x-python",
   "name": "python",
   "nbconvert_exporter": "python",
   "pygments_lexer": "ipython3",
   "version": "3.13.3"
  }
 },
 "nbformat": 4,
 "nbformat_minor": 5
}
