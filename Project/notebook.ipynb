{
 "cells": [
  {
   "cell_type": "code",
   "execution_count": 162,
   "id": "91d6a0fa",
   "metadata": {},
   "outputs": [],
   "source": [
    "# import pandas as pd\n",
    "# df = pd.read_csv('health.csv')\n",
    "# df"
   ]
  },
  {
   "cell_type": "code",
   "execution_count": 163,
   "id": "24a77f3b",
   "metadata": {},
   "outputs": [],
   "source": [
    "# df.shape"
   ]
  },
  {
   "cell_type": "code",
   "execution_count": 164,
   "id": "67dbfeac",
   "metadata": {
    "slideshow": {
     "slide_type": "notes"
    }
   },
   "outputs": [],
   "source": [
    "# df[df.isnull().any(axis=1)]"
   ]
  },
  {
   "cell_type": "code",
   "execution_count": 165,
   "id": "531a625b",
   "metadata": {},
   "outputs": [],
   "source": [
    "# df.groupby('Stress_Level').Gender.value_counts()"
   ]
  },
  {
   "cell_type": "code",
   "execution_count": 166,
   "id": "fb1622cd",
   "metadata": {},
   "outputs": [],
   "source": [
    "# df[df.Stress_Level > 2].groupby('Stress_Level').Course.value_counts() \n",
    "# ## Course have a significant affect on stress"
   ]
  },
  {
   "cell_type": "code",
   "execution_count": 167,
   "id": "055c96f8",
   "metadata": {},
   "outputs": [],
   "source": [
    "# df[df.Depression_Score > 2].groupby('Depression_Score').Course.value_counts()"
   ]
  },
  {
   "cell_type": "code",
   "execution_count": 168,
   "id": "f106ad58",
   "metadata": {},
   "outputs": [],
   "source": [
    "# df[df.Anxiety_Score > 2].groupby('Anxiety_Score').Course.value_counts()"
   ]
  },
  {
   "cell_type": "code",
   "execution_count": 169,
   "id": "94fdb2e8",
   "metadata": {},
   "outputs": [],
   "source": [
    "# df.groupby('CGPA').value_counts()"
   ]
  },
  {
   "cell_type": "code",
   "execution_count": 170,
   "id": "d5cf0b54",
   "metadata": {},
   "outputs": [],
   "source": [
    "# df.groupby('Course').CGPA.mean()"
   ]
  },
  {
   "cell_type": "code",
   "execution_count": 171,
   "id": "777bd50c",
   "metadata": {},
   "outputs": [],
   "source": [
    "# df['CGPA'] = df['CGPA'].fillna(3.49)"
   ]
  },
  {
   "cell_type": "code",
   "execution_count": 172,
   "id": "ad1a0d48",
   "metadata": {},
   "outputs": [],
   "source": [
    "# df.dropna(inplace=True)"
   ]
  },
  {
   "cell_type": "code",
   "execution_count": null,
   "id": "fb692370",
   "metadata": {},
   "outputs": [],
   "source": []
  },
  {
   "cell_type": "code",
   "execution_count": 173,
   "id": "8fac80cb",
   "metadata": {},
   "outputs": [],
   "source": [
    "# df.info()"
   ]
  },
  {
   "cell_type": "code",
   "execution_count": 174,
   "id": "bfa02917",
   "metadata": {},
   "outputs": [],
   "source": [
    "# df.to_csv(\"cleaned_health.csv\", index=False)\n",
    "import pandas as pd"
   ]
  },
  {
   "cell_type": "code",
   "execution_count": 175,
   "id": "0c7c49a3",
   "metadata": {},
   "outputs": [
    {
     "data": {
      "text/html": [
       "<div>\n",
       "<style scoped>\n",
       "    .dataframe tbody tr th:only-of-type {\n",
       "        vertical-align: middle;\n",
       "    }\n",
       "\n",
       "    .dataframe tbody tr th {\n",
       "        vertical-align: top;\n",
       "    }\n",
       "\n",
       "    .dataframe thead th {\n",
       "        text-align: right;\n",
       "    }\n",
       "</style>\n",
       "<table border=\"1\" class=\"dataframe\">\n",
       "  <thead>\n",
       "    <tr style=\"text-align: right;\">\n",
       "      <th></th>\n",
       "      <th>Age</th>\n",
       "      <th>Course</th>\n",
       "      <th>Gender</th>\n",
       "      <th>CGPA</th>\n",
       "      <th>Stress_Level</th>\n",
       "      <th>Depression_Score</th>\n",
       "      <th>Anxiety_Score</th>\n",
       "      <th>Sleep_Quality</th>\n",
       "      <th>Physical_Activity</th>\n",
       "      <th>Diet_Quality</th>\n",
       "      <th>Social_Support</th>\n",
       "      <th>Relationship_Status</th>\n",
       "      <th>Substance_Use</th>\n",
       "      <th>Counseling_Service_Use</th>\n",
       "      <th>Family_History</th>\n",
       "      <th>Chronic_Illness</th>\n",
       "      <th>Financial_Stress</th>\n",
       "      <th>Extracurricular_Involvement</th>\n",
       "      <th>Semester_Credit_Load</th>\n",
       "      <th>Residence_Type</th>\n",
       "    </tr>\n",
       "  </thead>\n",
       "  <tbody>\n",
       "    <tr>\n",
       "      <th>0</th>\n",
       "      <td>25</td>\n",
       "      <td>Others</td>\n",
       "      <td>Male</td>\n",
       "      <td>3.56</td>\n",
       "      <td>3</td>\n",
       "      <td>3</td>\n",
       "      <td>2</td>\n",
       "      <td>Good</td>\n",
       "      <td>Moderate</td>\n",
       "      <td>Good</td>\n",
       "      <td>Moderate</td>\n",
       "      <td>Married</td>\n",
       "      <td>Never</td>\n",
       "      <td>Never</td>\n",
       "      <td>No</td>\n",
       "      <td>No</td>\n",
       "      <td>2</td>\n",
       "      <td>Moderate</td>\n",
       "      <td>17</td>\n",
       "      <td>On-Campus</td>\n",
       "    </tr>\n",
       "    <tr>\n",
       "      <th>1</th>\n",
       "      <td>24</td>\n",
       "      <td>Engineering</td>\n",
       "      <td>Female</td>\n",
       "      <td>2.44</td>\n",
       "      <td>0</td>\n",
       "      <td>3</td>\n",
       "      <td>0</td>\n",
       "      <td>Average</td>\n",
       "      <td>Low</td>\n",
       "      <td>Average</td>\n",
       "      <td>Low</td>\n",
       "      <td>Single</td>\n",
       "      <td>Occasionally</td>\n",
       "      <td>Occasionally</td>\n",
       "      <td>No</td>\n",
       "      <td>No</td>\n",
       "      <td>3</td>\n",
       "      <td>Low</td>\n",
       "      <td>27</td>\n",
       "      <td>On-Campus</td>\n",
       "    </tr>\n",
       "    <tr>\n",
       "      <th>2</th>\n",
       "      <td>19</td>\n",
       "      <td>Business</td>\n",
       "      <td>Female</td>\n",
       "      <td>3.74</td>\n",
       "      <td>4</td>\n",
       "      <td>0</td>\n",
       "      <td>3</td>\n",
       "      <td>Good</td>\n",
       "      <td>Low</td>\n",
       "      <td>Average</td>\n",
       "      <td>Moderate</td>\n",
       "      <td>In a Relationship</td>\n",
       "      <td>Never</td>\n",
       "      <td>Occasionally</td>\n",
       "      <td>No</td>\n",
       "      <td>No</td>\n",
       "      <td>4</td>\n",
       "      <td>High</td>\n",
       "      <td>15</td>\n",
       "      <td>On-Campus</td>\n",
       "    </tr>\n",
       "    <tr>\n",
       "      <th>3</th>\n",
       "      <td>18</td>\n",
       "      <td>Business</td>\n",
       "      <td>Male</td>\n",
       "      <td>3.40</td>\n",
       "      <td>3</td>\n",
       "      <td>3</td>\n",
       "      <td>4</td>\n",
       "      <td>Good</td>\n",
       "      <td>Low</td>\n",
       "      <td>Average</td>\n",
       "      <td>High</td>\n",
       "      <td>Married</td>\n",
       "      <td>Never</td>\n",
       "      <td>Never</td>\n",
       "      <td>No</td>\n",
       "      <td>Yes</td>\n",
       "      <td>0</td>\n",
       "      <td>High</td>\n",
       "      <td>23</td>\n",
       "      <td>On-Campus</td>\n",
       "    </tr>\n",
       "    <tr>\n",
       "      <th>4</th>\n",
       "      <td>21</td>\n",
       "      <td>Medical</td>\n",
       "      <td>Female</td>\n",
       "      <td>3.35</td>\n",
       "      <td>2</td>\n",
       "      <td>4</td>\n",
       "      <td>3</td>\n",
       "      <td>Good</td>\n",
       "      <td>Moderate</td>\n",
       "      <td>Good</td>\n",
       "      <td>High</td>\n",
       "      <td>Single</td>\n",
       "      <td>Never</td>\n",
       "      <td>Never</td>\n",
       "      <td>No</td>\n",
       "      <td>No</td>\n",
       "      <td>5</td>\n",
       "      <td>Moderate</td>\n",
       "      <td>19</td>\n",
       "      <td>Off-Campus</td>\n",
       "    </tr>\n",
       "  </tbody>\n",
       "</table>\n",
       "</div>"
      ],
      "text/plain": [
       "   Age       Course  Gender  CGPA  Stress_Level  Depression_Score  \\\n",
       "0   25       Others    Male  3.56             3                 3   \n",
       "1   24  Engineering  Female  2.44             0                 3   \n",
       "2   19     Business  Female  3.74             4                 0   \n",
       "3   18     Business    Male  3.40             3                 3   \n",
       "4   21      Medical  Female  3.35             2                 4   \n",
       "\n",
       "   Anxiety_Score Sleep_Quality Physical_Activity Diet_Quality Social_Support  \\\n",
       "0              2          Good          Moderate         Good       Moderate   \n",
       "1              0       Average               Low      Average            Low   \n",
       "2              3          Good               Low      Average       Moderate   \n",
       "3              4          Good               Low      Average           High   \n",
       "4              3          Good          Moderate         Good           High   \n",
       "\n",
       "  Relationship_Status Substance_Use Counseling_Service_Use Family_History  \\\n",
       "0             Married         Never                  Never             No   \n",
       "1              Single  Occasionally           Occasionally             No   \n",
       "2   In a Relationship         Never           Occasionally             No   \n",
       "3             Married         Never                  Never             No   \n",
       "4              Single         Never                  Never             No   \n",
       "\n",
       "  Chronic_Illness  Financial_Stress Extracurricular_Involvement  \\\n",
       "0              No                 2                    Moderate   \n",
       "1              No                 3                         Low   \n",
       "2              No                 4                        High   \n",
       "3             Yes                 0                        High   \n",
       "4              No                 5                    Moderate   \n",
       "\n",
       "   Semester_Credit_Load Residence_Type  \n",
       "0                    17      On-Campus  \n",
       "1                    27      On-Campus  \n",
       "2                    15      On-Campus  \n",
       "3                    23      On-Campus  \n",
       "4                    19     Off-Campus  "
      ]
     },
     "execution_count": 175,
     "metadata": {},
     "output_type": "execute_result"
    }
   ],
   "source": [
    "df = pd.read_csv('cleaned_health.csv')\n",
    "df.head()"
   ]
  },
  {
   "cell_type": "code",
   "execution_count": 176,
   "id": "2fac195d",
   "metadata": {},
   "outputs": [],
   "source": [
    "df['Risk'] = df.apply(lambda x: 1 if (x['Stress_Level'] > 2 or x['Depression_Score'] > 2 or x['Anxiety_Score'] > 2) else 0,axis=1)"
   ]
  },
  {
   "cell_type": "code",
   "execution_count": 177,
   "id": "d5c7506d",
   "metadata": {},
   "outputs": [
    {
     "data": {
      "text/plain": [
       "Risk\n",
       "1    5988\n",
       "0    1019\n",
       "Name: count, dtype: int64"
      ]
     },
     "execution_count": 177,
     "metadata": {},
     "output_type": "execute_result"
    }
   ],
   "source": [
    "df.Risk.value_counts()"
   ]
  },
  {
   "cell_type": "code",
   "execution_count": 178,
   "id": "3b659230",
   "metadata": {},
   "outputs": [
    {
     "data": {
      "text/plain": [
       "Substance_Use\n",
       "Never           5903\n",
       "Occasionally     699\n",
       "Frequently       405\n",
       "Name: count, dtype: int64"
      ]
     },
     "execution_count": 178,
     "metadata": {},
     "output_type": "execute_result"
    }
   ],
   "source": [
    "df.Substance_Use.value_counts()"
   ]
  },
  {
   "cell_type": "code",
   "execution_count": 179,
   "id": "3cc9d33a",
   "metadata": {},
   "outputs": [],
   "source": [
    "Substance_Use_map = {\n",
    "    'Never' : 1,\n",
    "    'Occasionally' : 2,\n",
    "    'Frequently' : 3\n",
    "}"
   ]
  },
  {
   "cell_type": "code",
   "execution_count": 180,
   "id": "c66ec2d1",
   "metadata": {},
   "outputs": [
    {
     "name": "stderr",
     "output_type": "stream",
     "text": [
      "C:\\Users\\vimal\\AppData\\Local\\Temp\\ipykernel_22976\\651325812.py:1: FutureWarning: A value is trying to be set on a copy of a DataFrame or Series through chained assignment using an inplace method.\n",
      "The behavior will change in pandas 3.0. This inplace method will never work because the intermediate object on which we are setting values always behaves as a copy.\n",
      "\n",
      "For example, when doing 'df[col].method(value, inplace=True)', try using 'df.method({col: value}, inplace=True)' or df[col] = df[col].method(value) instead, to perform the operation inplace on the original object.\n",
      "\n",
      "\n",
      "  df['Substance_Use'].replace(Substance_Use_map , inplace=True)\n",
      "C:\\Users\\vimal\\AppData\\Local\\Temp\\ipykernel_22976\\651325812.py:1: FutureWarning: Downcasting behavior in `replace` is deprecated and will be removed in a future version. To retain the old behavior, explicitly call `result.infer_objects(copy=False)`. To opt-in to the future behavior, set `pd.set_option('future.no_silent_downcasting', True)`\n",
      "  df['Substance_Use'].replace(Substance_Use_map , inplace=True)\n"
     ]
    }
   ],
   "source": [
    "df['Substance_Use'].replace(Substance_Use_map , inplace=True)"
   ]
  },
  {
   "cell_type": "code",
   "execution_count": 181,
   "id": "904613c1",
   "metadata": {},
   "outputs": [
    {
     "data": {
      "text/html": [
       "<div>\n",
       "<style scoped>\n",
       "    .dataframe tbody tr th:only-of-type {\n",
       "        vertical-align: middle;\n",
       "    }\n",
       "\n",
       "    .dataframe tbody tr th {\n",
       "        vertical-align: top;\n",
       "    }\n",
       "\n",
       "    .dataframe thead th {\n",
       "        text-align: right;\n",
       "    }\n",
       "</style>\n",
       "<table border=\"1\" class=\"dataframe\">\n",
       "  <thead>\n",
       "    <tr style=\"text-align: right;\">\n",
       "      <th></th>\n",
       "      <th>Age</th>\n",
       "      <th>Course</th>\n",
       "      <th>Gender</th>\n",
       "      <th>CGPA</th>\n",
       "      <th>Stress_Level</th>\n",
       "      <th>Depression_Score</th>\n",
       "      <th>Anxiety_Score</th>\n",
       "      <th>Sleep_Quality</th>\n",
       "      <th>Physical_Activity</th>\n",
       "      <th>Diet_Quality</th>\n",
       "      <th>...</th>\n",
       "      <th>Relationship_Status</th>\n",
       "      <th>Substance_Use</th>\n",
       "      <th>Counseling_Service_Use</th>\n",
       "      <th>Family_History</th>\n",
       "      <th>Chronic_Illness</th>\n",
       "      <th>Financial_Stress</th>\n",
       "      <th>Extracurricular_Involvement</th>\n",
       "      <th>Semester_Credit_Load</th>\n",
       "      <th>Residence_Type</th>\n",
       "      <th>Risk</th>\n",
       "    </tr>\n",
       "  </thead>\n",
       "  <tbody>\n",
       "    <tr>\n",
       "      <th>0</th>\n",
       "      <td>25</td>\n",
       "      <td>Others</td>\n",
       "      <td>Male</td>\n",
       "      <td>3.56</td>\n",
       "      <td>3</td>\n",
       "      <td>3</td>\n",
       "      <td>2</td>\n",
       "      <td>Good</td>\n",
       "      <td>Moderate</td>\n",
       "      <td>Good</td>\n",
       "      <td>...</td>\n",
       "      <td>Married</td>\n",
       "      <td>1</td>\n",
       "      <td>Never</td>\n",
       "      <td>No</td>\n",
       "      <td>No</td>\n",
       "      <td>2</td>\n",
       "      <td>Moderate</td>\n",
       "      <td>17</td>\n",
       "      <td>On-Campus</td>\n",
       "      <td>1</td>\n",
       "    </tr>\n",
       "    <tr>\n",
       "      <th>1</th>\n",
       "      <td>24</td>\n",
       "      <td>Engineering</td>\n",
       "      <td>Female</td>\n",
       "      <td>2.44</td>\n",
       "      <td>0</td>\n",
       "      <td>3</td>\n",
       "      <td>0</td>\n",
       "      <td>Average</td>\n",
       "      <td>Low</td>\n",
       "      <td>Average</td>\n",
       "      <td>...</td>\n",
       "      <td>Single</td>\n",
       "      <td>2</td>\n",
       "      <td>Occasionally</td>\n",
       "      <td>No</td>\n",
       "      <td>No</td>\n",
       "      <td>3</td>\n",
       "      <td>Low</td>\n",
       "      <td>27</td>\n",
       "      <td>On-Campus</td>\n",
       "      <td>1</td>\n",
       "    </tr>\n",
       "    <tr>\n",
       "      <th>2</th>\n",
       "      <td>19</td>\n",
       "      <td>Business</td>\n",
       "      <td>Female</td>\n",
       "      <td>3.74</td>\n",
       "      <td>4</td>\n",
       "      <td>0</td>\n",
       "      <td>3</td>\n",
       "      <td>Good</td>\n",
       "      <td>Low</td>\n",
       "      <td>Average</td>\n",
       "      <td>...</td>\n",
       "      <td>In a Relationship</td>\n",
       "      <td>1</td>\n",
       "      <td>Occasionally</td>\n",
       "      <td>No</td>\n",
       "      <td>No</td>\n",
       "      <td>4</td>\n",
       "      <td>High</td>\n",
       "      <td>15</td>\n",
       "      <td>On-Campus</td>\n",
       "      <td>1</td>\n",
       "    </tr>\n",
       "    <tr>\n",
       "      <th>3</th>\n",
       "      <td>18</td>\n",
       "      <td>Business</td>\n",
       "      <td>Male</td>\n",
       "      <td>3.40</td>\n",
       "      <td>3</td>\n",
       "      <td>3</td>\n",
       "      <td>4</td>\n",
       "      <td>Good</td>\n",
       "      <td>Low</td>\n",
       "      <td>Average</td>\n",
       "      <td>...</td>\n",
       "      <td>Married</td>\n",
       "      <td>1</td>\n",
       "      <td>Never</td>\n",
       "      <td>No</td>\n",
       "      <td>Yes</td>\n",
       "      <td>0</td>\n",
       "      <td>High</td>\n",
       "      <td>23</td>\n",
       "      <td>On-Campus</td>\n",
       "      <td>1</td>\n",
       "    </tr>\n",
       "    <tr>\n",
       "      <th>4</th>\n",
       "      <td>21</td>\n",
       "      <td>Medical</td>\n",
       "      <td>Female</td>\n",
       "      <td>3.35</td>\n",
       "      <td>2</td>\n",
       "      <td>4</td>\n",
       "      <td>3</td>\n",
       "      <td>Good</td>\n",
       "      <td>Moderate</td>\n",
       "      <td>Good</td>\n",
       "      <td>...</td>\n",
       "      <td>Single</td>\n",
       "      <td>1</td>\n",
       "      <td>Never</td>\n",
       "      <td>No</td>\n",
       "      <td>No</td>\n",
       "      <td>5</td>\n",
       "      <td>Moderate</td>\n",
       "      <td>19</td>\n",
       "      <td>Off-Campus</td>\n",
       "      <td>1</td>\n",
       "    </tr>\n",
       "  </tbody>\n",
       "</table>\n",
       "<p>5 rows × 21 columns</p>\n",
       "</div>"
      ],
      "text/plain": [
       "   Age       Course  Gender  CGPA  Stress_Level  Depression_Score  \\\n",
       "0   25       Others    Male  3.56             3                 3   \n",
       "1   24  Engineering  Female  2.44             0                 3   \n",
       "2   19     Business  Female  3.74             4                 0   \n",
       "3   18     Business    Male  3.40             3                 3   \n",
       "4   21      Medical  Female  3.35             2                 4   \n",
       "\n",
       "   Anxiety_Score Sleep_Quality Physical_Activity Diet_Quality  ...  \\\n",
       "0              2          Good          Moderate         Good  ...   \n",
       "1              0       Average               Low      Average  ...   \n",
       "2              3          Good               Low      Average  ...   \n",
       "3              4          Good               Low      Average  ...   \n",
       "4              3          Good          Moderate         Good  ...   \n",
       "\n",
       "  Relationship_Status Substance_Use  Counseling_Service_Use Family_History  \\\n",
       "0             Married             1                   Never             No   \n",
       "1              Single             2            Occasionally             No   \n",
       "2   In a Relationship             1            Occasionally             No   \n",
       "3             Married             1                   Never             No   \n",
       "4              Single             1                   Never             No   \n",
       "\n",
       "  Chronic_Illness Financial_Stress  Extracurricular_Involvement  \\\n",
       "0              No                2                     Moderate   \n",
       "1              No                3                          Low   \n",
       "2              No                4                         High   \n",
       "3             Yes                0                         High   \n",
       "4              No                5                     Moderate   \n",
       "\n",
       "  Semester_Credit_Load  Residence_Type Risk  \n",
       "0                   17       On-Campus    1  \n",
       "1                   27       On-Campus    1  \n",
       "2                   15       On-Campus    1  \n",
       "3                   23       On-Campus    1  \n",
       "4                   19      Off-Campus    1  \n",
       "\n",
       "[5 rows x 21 columns]"
      ]
     },
     "execution_count": 181,
     "metadata": {},
     "output_type": "execute_result"
    }
   ],
   "source": [
    "df.head()"
   ]
  },
  {
   "cell_type": "code",
   "execution_count": 182,
   "id": "5416b6f4",
   "metadata": {},
   "outputs": [
    {
     "data": {
      "text/plain": [
       "Sleep_Quality\n",
       "Good       3583\n",
       "Average    2728\n",
       "Poor        696\n",
       "Name: count, dtype: int64"
      ]
     },
     "execution_count": 182,
     "metadata": {},
     "output_type": "execute_result"
    }
   ],
   "source": [
    "df.Sleep_Quality.value_counts()"
   ]
  },
  {
   "cell_type": "code",
   "execution_count": 183,
   "id": "95e082d8",
   "metadata": {},
   "outputs": [
    {
     "name": "stderr",
     "output_type": "stream",
     "text": [
      "C:\\Users\\vimal\\AppData\\Local\\Temp\\ipykernel_22976\\3022150486.py:6: FutureWarning: A value is trying to be set on a copy of a DataFrame or Series through chained assignment using an inplace method.\n",
      "The behavior will change in pandas 3.0. This inplace method will never work because the intermediate object on which we are setting values always behaves as a copy.\n",
      "\n",
      "For example, when doing 'df[col].method(value, inplace=True)', try using 'df.method({col: value}, inplace=True)' or df[col] = df[col].method(value) instead, to perform the operation inplace on the original object.\n",
      "\n",
      "\n",
      "  df['Sleep_Quality'].replace(Sleep_Quality_Map , inplace=True)\n",
      "C:\\Users\\vimal\\AppData\\Local\\Temp\\ipykernel_22976\\3022150486.py:6: FutureWarning: Downcasting behavior in `replace` is deprecated and will be removed in a future version. To retain the old behavior, explicitly call `result.infer_objects(copy=False)`. To opt-in to the future behavior, set `pd.set_option('future.no_silent_downcasting', True)`\n",
      "  df['Sleep_Quality'].replace(Sleep_Quality_Map , inplace=True)\n"
     ]
    }
   ],
   "source": [
    "Sleep_Quality_Map = {\n",
    "    'Good' : 3,\n",
    "    'Average' : 2,\n",
    "    'Poor' : 1\n",
    "}\n",
    "df['Sleep_Quality'].replace(Sleep_Quality_Map , inplace=True)"
   ]
  },
  {
   "cell_type": "code",
   "execution_count": 184,
   "id": "52e0bbc6",
   "metadata": {},
   "outputs": [
    {
     "data": {
      "text/html": [
       "<div>\n",
       "<style scoped>\n",
       "    .dataframe tbody tr th:only-of-type {\n",
       "        vertical-align: middle;\n",
       "    }\n",
       "\n",
       "    .dataframe tbody tr th {\n",
       "        vertical-align: top;\n",
       "    }\n",
       "\n",
       "    .dataframe thead th {\n",
       "        text-align: right;\n",
       "    }\n",
       "</style>\n",
       "<table border=\"1\" class=\"dataframe\">\n",
       "  <thead>\n",
       "    <tr style=\"text-align: right;\">\n",
       "      <th></th>\n",
       "      <th>Age</th>\n",
       "      <th>Course</th>\n",
       "      <th>Gender</th>\n",
       "      <th>CGPA</th>\n",
       "      <th>Stress_Level</th>\n",
       "      <th>Depression_Score</th>\n",
       "      <th>Anxiety_Score</th>\n",
       "      <th>Sleep_Quality</th>\n",
       "      <th>Physical_Activity</th>\n",
       "      <th>Diet_Quality</th>\n",
       "      <th>...</th>\n",
       "      <th>Relationship_Status</th>\n",
       "      <th>Substance_Use</th>\n",
       "      <th>Counseling_Service_Use</th>\n",
       "      <th>Family_History</th>\n",
       "      <th>Chronic_Illness</th>\n",
       "      <th>Financial_Stress</th>\n",
       "      <th>Extracurricular_Involvement</th>\n",
       "      <th>Semester_Credit_Load</th>\n",
       "      <th>Residence_Type</th>\n",
       "      <th>Risk</th>\n",
       "    </tr>\n",
       "  </thead>\n",
       "  <tbody>\n",
       "    <tr>\n",
       "      <th>0</th>\n",
       "      <td>25</td>\n",
       "      <td>Others</td>\n",
       "      <td>Male</td>\n",
       "      <td>3.56</td>\n",
       "      <td>3</td>\n",
       "      <td>3</td>\n",
       "      <td>2</td>\n",
       "      <td>3</td>\n",
       "      <td>Moderate</td>\n",
       "      <td>Good</td>\n",
       "      <td>...</td>\n",
       "      <td>Married</td>\n",
       "      <td>1</td>\n",
       "      <td>Never</td>\n",
       "      <td>No</td>\n",
       "      <td>No</td>\n",
       "      <td>2</td>\n",
       "      <td>Moderate</td>\n",
       "      <td>17</td>\n",
       "      <td>On-Campus</td>\n",
       "      <td>1</td>\n",
       "    </tr>\n",
       "    <tr>\n",
       "      <th>1</th>\n",
       "      <td>24</td>\n",
       "      <td>Engineering</td>\n",
       "      <td>Female</td>\n",
       "      <td>2.44</td>\n",
       "      <td>0</td>\n",
       "      <td>3</td>\n",
       "      <td>0</td>\n",
       "      <td>2</td>\n",
       "      <td>Low</td>\n",
       "      <td>Average</td>\n",
       "      <td>...</td>\n",
       "      <td>Single</td>\n",
       "      <td>2</td>\n",
       "      <td>Occasionally</td>\n",
       "      <td>No</td>\n",
       "      <td>No</td>\n",
       "      <td>3</td>\n",
       "      <td>Low</td>\n",
       "      <td>27</td>\n",
       "      <td>On-Campus</td>\n",
       "      <td>1</td>\n",
       "    </tr>\n",
       "    <tr>\n",
       "      <th>2</th>\n",
       "      <td>19</td>\n",
       "      <td>Business</td>\n",
       "      <td>Female</td>\n",
       "      <td>3.74</td>\n",
       "      <td>4</td>\n",
       "      <td>0</td>\n",
       "      <td>3</td>\n",
       "      <td>3</td>\n",
       "      <td>Low</td>\n",
       "      <td>Average</td>\n",
       "      <td>...</td>\n",
       "      <td>In a Relationship</td>\n",
       "      <td>1</td>\n",
       "      <td>Occasionally</td>\n",
       "      <td>No</td>\n",
       "      <td>No</td>\n",
       "      <td>4</td>\n",
       "      <td>High</td>\n",
       "      <td>15</td>\n",
       "      <td>On-Campus</td>\n",
       "      <td>1</td>\n",
       "    </tr>\n",
       "    <tr>\n",
       "      <th>3</th>\n",
       "      <td>18</td>\n",
       "      <td>Business</td>\n",
       "      <td>Male</td>\n",
       "      <td>3.40</td>\n",
       "      <td>3</td>\n",
       "      <td>3</td>\n",
       "      <td>4</td>\n",
       "      <td>3</td>\n",
       "      <td>Low</td>\n",
       "      <td>Average</td>\n",
       "      <td>...</td>\n",
       "      <td>Married</td>\n",
       "      <td>1</td>\n",
       "      <td>Never</td>\n",
       "      <td>No</td>\n",
       "      <td>Yes</td>\n",
       "      <td>0</td>\n",
       "      <td>High</td>\n",
       "      <td>23</td>\n",
       "      <td>On-Campus</td>\n",
       "      <td>1</td>\n",
       "    </tr>\n",
       "    <tr>\n",
       "      <th>4</th>\n",
       "      <td>21</td>\n",
       "      <td>Medical</td>\n",
       "      <td>Female</td>\n",
       "      <td>3.35</td>\n",
       "      <td>2</td>\n",
       "      <td>4</td>\n",
       "      <td>3</td>\n",
       "      <td>3</td>\n",
       "      <td>Moderate</td>\n",
       "      <td>Good</td>\n",
       "      <td>...</td>\n",
       "      <td>Single</td>\n",
       "      <td>1</td>\n",
       "      <td>Never</td>\n",
       "      <td>No</td>\n",
       "      <td>No</td>\n",
       "      <td>5</td>\n",
       "      <td>Moderate</td>\n",
       "      <td>19</td>\n",
       "      <td>Off-Campus</td>\n",
       "      <td>1</td>\n",
       "    </tr>\n",
       "  </tbody>\n",
       "</table>\n",
       "<p>5 rows × 21 columns</p>\n",
       "</div>"
      ],
      "text/plain": [
       "   Age       Course  Gender  CGPA  Stress_Level  Depression_Score  \\\n",
       "0   25       Others    Male  3.56             3                 3   \n",
       "1   24  Engineering  Female  2.44             0                 3   \n",
       "2   19     Business  Female  3.74             4                 0   \n",
       "3   18     Business    Male  3.40             3                 3   \n",
       "4   21      Medical  Female  3.35             2                 4   \n",
       "\n",
       "   Anxiety_Score  Sleep_Quality Physical_Activity Diet_Quality  ...  \\\n",
       "0              2              3          Moderate         Good  ...   \n",
       "1              0              2               Low      Average  ...   \n",
       "2              3              3               Low      Average  ...   \n",
       "3              4              3               Low      Average  ...   \n",
       "4              3              3          Moderate         Good  ...   \n",
       "\n",
       "  Relationship_Status Substance_Use  Counseling_Service_Use Family_History  \\\n",
       "0             Married             1                   Never             No   \n",
       "1              Single             2            Occasionally             No   \n",
       "2   In a Relationship             1            Occasionally             No   \n",
       "3             Married             1                   Never             No   \n",
       "4              Single             1                   Never             No   \n",
       "\n",
       "  Chronic_Illness Financial_Stress  Extracurricular_Involvement  \\\n",
       "0              No                2                     Moderate   \n",
       "1              No                3                          Low   \n",
       "2              No                4                         High   \n",
       "3             Yes                0                         High   \n",
       "4              No                5                     Moderate   \n",
       "\n",
       "  Semester_Credit_Load  Residence_Type Risk  \n",
       "0                   17       On-Campus    1  \n",
       "1                   27       On-Campus    1  \n",
       "2                   15       On-Campus    1  \n",
       "3                   23       On-Campus    1  \n",
       "4                   19      Off-Campus    1  \n",
       "\n",
       "[5 rows x 21 columns]"
      ]
     },
     "execution_count": 184,
     "metadata": {},
     "output_type": "execute_result"
    }
   ],
   "source": [
    "df.head()"
   ]
  },
  {
   "cell_type": "code",
   "execution_count": 185,
   "id": "854bca39",
   "metadata": {},
   "outputs": [
    {
     "data": {
      "text/plain": [
       "Diet_Quality\n",
       "Average    4263\n",
       "Good       1380\n",
       "Poor       1364\n",
       "Name: count, dtype: int64"
      ]
     },
     "execution_count": 185,
     "metadata": {},
     "output_type": "execute_result"
    }
   ],
   "source": [
    "df.Diet_Quality.value_counts()"
   ]
  },
  {
   "cell_type": "code",
   "execution_count": 186,
   "id": "626c0e07",
   "metadata": {},
   "outputs": [
    {
     "name": "stderr",
     "output_type": "stream",
     "text": [
      "C:\\Users\\vimal\\AppData\\Local\\Temp\\ipykernel_22976\\3199958123.py:6: FutureWarning: A value is trying to be set on a copy of a DataFrame or Series through chained assignment using an inplace method.\n",
      "The behavior will change in pandas 3.0. This inplace method will never work because the intermediate object on which we are setting values always behaves as a copy.\n",
      "\n",
      "For example, when doing 'df[col].method(value, inplace=True)', try using 'df.method({col: value}, inplace=True)' or df[col] = df[col].method(value) instead, to perform the operation inplace on the original object.\n",
      "\n",
      "\n",
      "  df['Diet_Quality'].replace(Diet_Quality_Map , inplace=True)\n",
      "C:\\Users\\vimal\\AppData\\Local\\Temp\\ipykernel_22976\\3199958123.py:6: FutureWarning: Downcasting behavior in `replace` is deprecated and will be removed in a future version. To retain the old behavior, explicitly call `result.infer_objects(copy=False)`. To opt-in to the future behavior, set `pd.set_option('future.no_silent_downcasting', True)`\n",
      "  df['Diet_Quality'].replace(Diet_Quality_Map , inplace=True)\n"
     ]
    }
   ],
   "source": [
    "Diet_Quality_Map = {\n",
    "    'Good' : 3,\n",
    "    'Average' : 2,\n",
    "    'Poor' : 1\n",
    "}\n",
    "df['Diet_Quality'].replace(Diet_Quality_Map , inplace=True)"
   ]
  },
  {
   "cell_type": "code",
   "execution_count": 187,
   "id": "f4ce853e",
   "metadata": {},
   "outputs": [
    {
     "data": {
      "text/html": [
       "<div>\n",
       "<style scoped>\n",
       "    .dataframe tbody tr th:only-of-type {\n",
       "        vertical-align: middle;\n",
       "    }\n",
       "\n",
       "    .dataframe tbody tr th {\n",
       "        vertical-align: top;\n",
       "    }\n",
       "\n",
       "    .dataframe thead th {\n",
       "        text-align: right;\n",
       "    }\n",
       "</style>\n",
       "<table border=\"1\" class=\"dataframe\">\n",
       "  <thead>\n",
       "    <tr style=\"text-align: right;\">\n",
       "      <th></th>\n",
       "      <th>Age</th>\n",
       "      <th>Course</th>\n",
       "      <th>Gender</th>\n",
       "      <th>CGPA</th>\n",
       "      <th>Stress_Level</th>\n",
       "      <th>Depression_Score</th>\n",
       "      <th>Anxiety_Score</th>\n",
       "      <th>Sleep_Quality</th>\n",
       "      <th>Physical_Activity</th>\n",
       "      <th>Diet_Quality</th>\n",
       "      <th>...</th>\n",
       "      <th>Relationship_Status</th>\n",
       "      <th>Substance_Use</th>\n",
       "      <th>Counseling_Service_Use</th>\n",
       "      <th>Family_History</th>\n",
       "      <th>Chronic_Illness</th>\n",
       "      <th>Financial_Stress</th>\n",
       "      <th>Extracurricular_Involvement</th>\n",
       "      <th>Semester_Credit_Load</th>\n",
       "      <th>Residence_Type</th>\n",
       "      <th>Risk</th>\n",
       "    </tr>\n",
       "  </thead>\n",
       "  <tbody>\n",
       "    <tr>\n",
       "      <th>0</th>\n",
       "      <td>25</td>\n",
       "      <td>Others</td>\n",
       "      <td>Male</td>\n",
       "      <td>3.56</td>\n",
       "      <td>3</td>\n",
       "      <td>3</td>\n",
       "      <td>2</td>\n",
       "      <td>3</td>\n",
       "      <td>Moderate</td>\n",
       "      <td>3</td>\n",
       "      <td>...</td>\n",
       "      <td>Married</td>\n",
       "      <td>1</td>\n",
       "      <td>Never</td>\n",
       "      <td>No</td>\n",
       "      <td>No</td>\n",
       "      <td>2</td>\n",
       "      <td>Moderate</td>\n",
       "      <td>17</td>\n",
       "      <td>On-Campus</td>\n",
       "      <td>1</td>\n",
       "    </tr>\n",
       "    <tr>\n",
       "      <th>1</th>\n",
       "      <td>24</td>\n",
       "      <td>Engineering</td>\n",
       "      <td>Female</td>\n",
       "      <td>2.44</td>\n",
       "      <td>0</td>\n",
       "      <td>3</td>\n",
       "      <td>0</td>\n",
       "      <td>2</td>\n",
       "      <td>Low</td>\n",
       "      <td>2</td>\n",
       "      <td>...</td>\n",
       "      <td>Single</td>\n",
       "      <td>2</td>\n",
       "      <td>Occasionally</td>\n",
       "      <td>No</td>\n",
       "      <td>No</td>\n",
       "      <td>3</td>\n",
       "      <td>Low</td>\n",
       "      <td>27</td>\n",
       "      <td>On-Campus</td>\n",
       "      <td>1</td>\n",
       "    </tr>\n",
       "    <tr>\n",
       "      <th>2</th>\n",
       "      <td>19</td>\n",
       "      <td>Business</td>\n",
       "      <td>Female</td>\n",
       "      <td>3.74</td>\n",
       "      <td>4</td>\n",
       "      <td>0</td>\n",
       "      <td>3</td>\n",
       "      <td>3</td>\n",
       "      <td>Low</td>\n",
       "      <td>2</td>\n",
       "      <td>...</td>\n",
       "      <td>In a Relationship</td>\n",
       "      <td>1</td>\n",
       "      <td>Occasionally</td>\n",
       "      <td>No</td>\n",
       "      <td>No</td>\n",
       "      <td>4</td>\n",
       "      <td>High</td>\n",
       "      <td>15</td>\n",
       "      <td>On-Campus</td>\n",
       "      <td>1</td>\n",
       "    </tr>\n",
       "    <tr>\n",
       "      <th>3</th>\n",
       "      <td>18</td>\n",
       "      <td>Business</td>\n",
       "      <td>Male</td>\n",
       "      <td>3.40</td>\n",
       "      <td>3</td>\n",
       "      <td>3</td>\n",
       "      <td>4</td>\n",
       "      <td>3</td>\n",
       "      <td>Low</td>\n",
       "      <td>2</td>\n",
       "      <td>...</td>\n",
       "      <td>Married</td>\n",
       "      <td>1</td>\n",
       "      <td>Never</td>\n",
       "      <td>No</td>\n",
       "      <td>Yes</td>\n",
       "      <td>0</td>\n",
       "      <td>High</td>\n",
       "      <td>23</td>\n",
       "      <td>On-Campus</td>\n",
       "      <td>1</td>\n",
       "    </tr>\n",
       "    <tr>\n",
       "      <th>4</th>\n",
       "      <td>21</td>\n",
       "      <td>Medical</td>\n",
       "      <td>Female</td>\n",
       "      <td>3.35</td>\n",
       "      <td>2</td>\n",
       "      <td>4</td>\n",
       "      <td>3</td>\n",
       "      <td>3</td>\n",
       "      <td>Moderate</td>\n",
       "      <td>3</td>\n",
       "      <td>...</td>\n",
       "      <td>Single</td>\n",
       "      <td>1</td>\n",
       "      <td>Never</td>\n",
       "      <td>No</td>\n",
       "      <td>No</td>\n",
       "      <td>5</td>\n",
       "      <td>Moderate</td>\n",
       "      <td>19</td>\n",
       "      <td>Off-Campus</td>\n",
       "      <td>1</td>\n",
       "    </tr>\n",
       "  </tbody>\n",
       "</table>\n",
       "<p>5 rows × 21 columns</p>\n",
       "</div>"
      ],
      "text/plain": [
       "   Age       Course  Gender  CGPA  Stress_Level  Depression_Score  \\\n",
       "0   25       Others    Male  3.56             3                 3   \n",
       "1   24  Engineering  Female  2.44             0                 3   \n",
       "2   19     Business  Female  3.74             4                 0   \n",
       "3   18     Business    Male  3.40             3                 3   \n",
       "4   21      Medical  Female  3.35             2                 4   \n",
       "\n",
       "   Anxiety_Score  Sleep_Quality Physical_Activity  Diet_Quality  ...  \\\n",
       "0              2              3          Moderate             3  ...   \n",
       "1              0              2               Low             2  ...   \n",
       "2              3              3               Low             2  ...   \n",
       "3              4              3               Low             2  ...   \n",
       "4              3              3          Moderate             3  ...   \n",
       "\n",
       "  Relationship_Status Substance_Use  Counseling_Service_Use Family_History  \\\n",
       "0             Married             1                   Never             No   \n",
       "1              Single             2            Occasionally             No   \n",
       "2   In a Relationship             1            Occasionally             No   \n",
       "3             Married             1                   Never             No   \n",
       "4              Single             1                   Never             No   \n",
       "\n",
       "  Chronic_Illness Financial_Stress  Extracurricular_Involvement  \\\n",
       "0              No                2                     Moderate   \n",
       "1              No                3                          Low   \n",
       "2              No                4                         High   \n",
       "3             Yes                0                         High   \n",
       "4              No                5                     Moderate   \n",
       "\n",
       "  Semester_Credit_Load  Residence_Type Risk  \n",
       "0                   17       On-Campus    1  \n",
       "1                   27       On-Campus    1  \n",
       "2                   15       On-Campus    1  \n",
       "3                   23       On-Campus    1  \n",
       "4                   19      Off-Campus    1  \n",
       "\n",
       "[5 rows x 21 columns]"
      ]
     },
     "execution_count": 187,
     "metadata": {},
     "output_type": "execute_result"
    }
   ],
   "source": [
    "df.head()"
   ]
  },
  {
   "cell_type": "code",
   "execution_count": 188,
   "id": "d9439037",
   "metadata": {},
   "outputs": [
    {
     "data": {
      "text/plain": [
       "Physical_Activity\n",
       "Moderate    3510\n",
       "Low         2088\n",
       "High        1409\n",
       "Name: count, dtype: int64"
      ]
     },
     "execution_count": 188,
     "metadata": {},
     "output_type": "execute_result"
    }
   ],
   "source": [
    "df.Physical_Activity.value_counts()"
   ]
  },
  {
   "cell_type": "code",
   "execution_count": 189,
   "id": "16af5a9f",
   "metadata": {},
   "outputs": [
    {
     "name": "stderr",
     "output_type": "stream",
     "text": [
      "C:\\Users\\vimal\\AppData\\Local\\Temp\\ipykernel_22976\\1050943888.py:6: FutureWarning: A value is trying to be set on a copy of a DataFrame or Series through chained assignment using an inplace method.\n",
      "The behavior will change in pandas 3.0. This inplace method will never work because the intermediate object on which we are setting values always behaves as a copy.\n",
      "\n",
      "For example, when doing 'df[col].method(value, inplace=True)', try using 'df.method({col: value}, inplace=True)' or df[col] = df[col].method(value) instead, to perform the operation inplace on the original object.\n",
      "\n",
      "\n",
      "  df['Physical_Activity'].replace(Physical_Activity_Map , inplace=True)\n",
      "C:\\Users\\vimal\\AppData\\Local\\Temp\\ipykernel_22976\\1050943888.py:6: FutureWarning: Downcasting behavior in `replace` is deprecated and will be removed in a future version. To retain the old behavior, explicitly call `result.infer_objects(copy=False)`. To opt-in to the future behavior, set `pd.set_option('future.no_silent_downcasting', True)`\n",
      "  df['Physical_Activity'].replace(Physical_Activity_Map , inplace=True)\n"
     ]
    }
   ],
   "source": [
    "Physical_Activity_Map = {\n",
    "    'Moderate' : 2,\n",
    "    'High' : 3,\n",
    "    'Low' : 1\n",
    "}\n",
    "df['Physical_Activity'].replace(Physical_Activity_Map , inplace=True)"
   ]
  },
  {
   "cell_type": "code",
   "execution_count": 190,
   "id": "d9a6c46a",
   "metadata": {},
   "outputs": [
    {
     "name": "stdout",
     "output_type": "stream",
     "text": [
      "<class 'pandas.core.frame.DataFrame'>\n",
      "RangeIndex: 7007 entries, 0 to 7006\n",
      "Data columns (total 21 columns):\n",
      " #   Column                       Non-Null Count  Dtype  \n",
      "---  ------                       --------------  -----  \n",
      " 0   Age                          7007 non-null   int64  \n",
      " 1   Course                       7007 non-null   object \n",
      " 2   Gender                       7007 non-null   object \n",
      " 3   CGPA                         7007 non-null   float64\n",
      " 4   Stress_Level                 7007 non-null   int64  \n",
      " 5   Depression_Score             7007 non-null   int64  \n",
      " 6   Anxiety_Score                7007 non-null   int64  \n",
      " 7   Sleep_Quality                7007 non-null   int64  \n",
      " 8   Physical_Activity            7007 non-null   int64  \n",
      " 9   Diet_Quality                 7007 non-null   int64  \n",
      " 10  Social_Support               7007 non-null   object \n",
      " 11  Relationship_Status          7007 non-null   object \n",
      " 12  Substance_Use                7007 non-null   int64  \n",
      " 13  Counseling_Service_Use       7007 non-null   object \n",
      " 14  Family_History               7007 non-null   object \n",
      " 15  Chronic_Illness              7007 non-null   object \n",
      " 16  Financial_Stress             7007 non-null   int64  \n",
      " 17  Extracurricular_Involvement  7007 non-null   object \n",
      " 18  Semester_Credit_Load         7007 non-null   int64  \n",
      " 19  Residence_Type               7007 non-null   object \n",
      " 20  Risk                         7007 non-null   int64  \n",
      "dtypes: float64(1), int64(11), object(9)\n",
      "memory usage: 1.1+ MB\n"
     ]
    }
   ],
   "source": [
    "df.info()"
   ]
  },
  {
   "cell_type": "code",
   "execution_count": 191,
   "id": "3b61f1dc",
   "metadata": {},
   "outputs": [
    {
     "data": {
      "text/plain": [
       "Residence_Type  Risk\n",
       "Off-Campus      1       0.853597\n",
       "                0       0.146403\n",
       "On-Campus       1       0.852669\n",
       "                0       0.147331\n",
       "With Family     1       0.860268\n",
       "                0       0.139732\n",
       "Name: proportion, dtype: float64"
      ]
     },
     "execution_count": 191,
     "metadata": {},
     "output_type": "execute_result"
    }
   ],
   "source": [
    "df.groupby('Residence_Type').Risk.value_counts(normalize=True)\n",
    "# One-Hot encoding in Residence_Type Course , RelationShip_Status\n",
    "# Scaling in Age , Semester_Credit_Load , "
   ]
  },
  {
   "cell_type": "code",
   "execution_count": 192,
   "id": "4d9c45dc",
   "metadata": {},
   "outputs": [],
   "source": [
    "df['Gender'] = df['Gender'].map({\"Male\": 0, \"Female\": 1})"
   ]
  },
  {
   "cell_type": "code",
   "execution_count": 193,
   "id": "50dd55f1",
   "metadata": {},
   "outputs": [
    {
     "data": {
      "text/html": [
       "<div>\n",
       "<style scoped>\n",
       "    .dataframe tbody tr th:only-of-type {\n",
       "        vertical-align: middle;\n",
       "    }\n",
       "\n",
       "    .dataframe tbody tr th {\n",
       "        vertical-align: top;\n",
       "    }\n",
       "\n",
       "    .dataframe thead th {\n",
       "        text-align: right;\n",
       "    }\n",
       "</style>\n",
       "<table border=\"1\" class=\"dataframe\">\n",
       "  <thead>\n",
       "    <tr style=\"text-align: right;\">\n",
       "      <th></th>\n",
       "      <th>Age</th>\n",
       "      <th>Course</th>\n",
       "      <th>Gender</th>\n",
       "      <th>CGPA</th>\n",
       "      <th>Stress_Level</th>\n",
       "      <th>Depression_Score</th>\n",
       "      <th>Anxiety_Score</th>\n",
       "      <th>Sleep_Quality</th>\n",
       "      <th>Physical_Activity</th>\n",
       "      <th>Diet_Quality</th>\n",
       "      <th>...</th>\n",
       "      <th>Relationship_Status</th>\n",
       "      <th>Substance_Use</th>\n",
       "      <th>Counseling_Service_Use</th>\n",
       "      <th>Family_History</th>\n",
       "      <th>Chronic_Illness</th>\n",
       "      <th>Financial_Stress</th>\n",
       "      <th>Extracurricular_Involvement</th>\n",
       "      <th>Semester_Credit_Load</th>\n",
       "      <th>Residence_Type</th>\n",
       "      <th>Risk</th>\n",
       "    </tr>\n",
       "  </thead>\n",
       "  <tbody>\n",
       "    <tr>\n",
       "      <th>0</th>\n",
       "      <td>25</td>\n",
       "      <td>Others</td>\n",
       "      <td>0</td>\n",
       "      <td>3.56</td>\n",
       "      <td>3</td>\n",
       "      <td>3</td>\n",
       "      <td>2</td>\n",
       "      <td>3</td>\n",
       "      <td>2</td>\n",
       "      <td>3</td>\n",
       "      <td>...</td>\n",
       "      <td>Married</td>\n",
       "      <td>1</td>\n",
       "      <td>Never</td>\n",
       "      <td>No</td>\n",
       "      <td>No</td>\n",
       "      <td>2</td>\n",
       "      <td>Moderate</td>\n",
       "      <td>17</td>\n",
       "      <td>On-Campus</td>\n",
       "      <td>1</td>\n",
       "    </tr>\n",
       "    <tr>\n",
       "      <th>1</th>\n",
       "      <td>24</td>\n",
       "      <td>Engineering</td>\n",
       "      <td>1</td>\n",
       "      <td>2.44</td>\n",
       "      <td>0</td>\n",
       "      <td>3</td>\n",
       "      <td>0</td>\n",
       "      <td>2</td>\n",
       "      <td>1</td>\n",
       "      <td>2</td>\n",
       "      <td>...</td>\n",
       "      <td>Single</td>\n",
       "      <td>2</td>\n",
       "      <td>Occasionally</td>\n",
       "      <td>No</td>\n",
       "      <td>No</td>\n",
       "      <td>3</td>\n",
       "      <td>Low</td>\n",
       "      <td>27</td>\n",
       "      <td>On-Campus</td>\n",
       "      <td>1</td>\n",
       "    </tr>\n",
       "    <tr>\n",
       "      <th>2</th>\n",
       "      <td>19</td>\n",
       "      <td>Business</td>\n",
       "      <td>1</td>\n",
       "      <td>3.74</td>\n",
       "      <td>4</td>\n",
       "      <td>0</td>\n",
       "      <td>3</td>\n",
       "      <td>3</td>\n",
       "      <td>1</td>\n",
       "      <td>2</td>\n",
       "      <td>...</td>\n",
       "      <td>In a Relationship</td>\n",
       "      <td>1</td>\n",
       "      <td>Occasionally</td>\n",
       "      <td>No</td>\n",
       "      <td>No</td>\n",
       "      <td>4</td>\n",
       "      <td>High</td>\n",
       "      <td>15</td>\n",
       "      <td>On-Campus</td>\n",
       "      <td>1</td>\n",
       "    </tr>\n",
       "    <tr>\n",
       "      <th>3</th>\n",
       "      <td>18</td>\n",
       "      <td>Business</td>\n",
       "      <td>0</td>\n",
       "      <td>3.40</td>\n",
       "      <td>3</td>\n",
       "      <td>3</td>\n",
       "      <td>4</td>\n",
       "      <td>3</td>\n",
       "      <td>1</td>\n",
       "      <td>2</td>\n",
       "      <td>...</td>\n",
       "      <td>Married</td>\n",
       "      <td>1</td>\n",
       "      <td>Never</td>\n",
       "      <td>No</td>\n",
       "      <td>Yes</td>\n",
       "      <td>0</td>\n",
       "      <td>High</td>\n",
       "      <td>23</td>\n",
       "      <td>On-Campus</td>\n",
       "      <td>1</td>\n",
       "    </tr>\n",
       "    <tr>\n",
       "      <th>4</th>\n",
       "      <td>21</td>\n",
       "      <td>Medical</td>\n",
       "      <td>1</td>\n",
       "      <td>3.35</td>\n",
       "      <td>2</td>\n",
       "      <td>4</td>\n",
       "      <td>3</td>\n",
       "      <td>3</td>\n",
       "      <td>2</td>\n",
       "      <td>3</td>\n",
       "      <td>...</td>\n",
       "      <td>Single</td>\n",
       "      <td>1</td>\n",
       "      <td>Never</td>\n",
       "      <td>No</td>\n",
       "      <td>No</td>\n",
       "      <td>5</td>\n",
       "      <td>Moderate</td>\n",
       "      <td>19</td>\n",
       "      <td>Off-Campus</td>\n",
       "      <td>1</td>\n",
       "    </tr>\n",
       "  </tbody>\n",
       "</table>\n",
       "<p>5 rows × 21 columns</p>\n",
       "</div>"
      ],
      "text/plain": [
       "   Age       Course  Gender  CGPA  Stress_Level  Depression_Score  \\\n",
       "0   25       Others       0  3.56             3                 3   \n",
       "1   24  Engineering       1  2.44             0                 3   \n",
       "2   19     Business       1  3.74             4                 0   \n",
       "3   18     Business       0  3.40             3                 3   \n",
       "4   21      Medical       1  3.35             2                 4   \n",
       "\n",
       "   Anxiety_Score  Sleep_Quality  Physical_Activity  Diet_Quality  ...  \\\n",
       "0              2              3                  2             3  ...   \n",
       "1              0              2                  1             2  ...   \n",
       "2              3              3                  1             2  ...   \n",
       "3              4              3                  1             2  ...   \n",
       "4              3              3                  2             3  ...   \n",
       "\n",
       "  Relationship_Status Substance_Use  Counseling_Service_Use Family_History  \\\n",
       "0             Married             1                   Never             No   \n",
       "1              Single             2            Occasionally             No   \n",
       "2   In a Relationship             1            Occasionally             No   \n",
       "3             Married             1                   Never             No   \n",
       "4              Single             1                   Never             No   \n",
       "\n",
       "  Chronic_Illness Financial_Stress  Extracurricular_Involvement  \\\n",
       "0              No                2                     Moderate   \n",
       "1              No                3                          Low   \n",
       "2              No                4                         High   \n",
       "3             Yes                0                         High   \n",
       "4              No                5                     Moderate   \n",
       "\n",
       "  Semester_Credit_Load  Residence_Type Risk  \n",
       "0                   17       On-Campus    1  \n",
       "1                   27       On-Campus    1  \n",
       "2                   15       On-Campus    1  \n",
       "3                   23       On-Campus    1  \n",
       "4                   19      Off-Campus    1  \n",
       "\n",
       "[5 rows x 21 columns]"
      ]
     },
     "execution_count": 193,
     "metadata": {},
     "output_type": "execute_result"
    }
   ],
   "source": [
    "df.head()"
   ]
  },
  {
   "cell_type": "code",
   "execution_count": 194,
   "id": "f9b65d75",
   "metadata": {},
   "outputs": [
    {
     "data": {
      "text/plain": [
       "Social_Support\n",
       "Moderate    3462\n",
       "High        2171\n",
       "Low         1374\n",
       "Name: count, dtype: int64"
      ]
     },
     "execution_count": 194,
     "metadata": {},
     "output_type": "execute_result"
    }
   ],
   "source": [
    "df.Social_Support.value_counts()"
   ]
  },
  {
   "cell_type": "code",
   "execution_count": 195,
   "id": "d91ba203",
   "metadata": {},
   "outputs": [
    {
     "name": "stderr",
     "output_type": "stream",
     "text": [
      "C:\\Users\\vimal\\AppData\\Local\\Temp\\ipykernel_22976\\2384732504.py:6: FutureWarning: A value is trying to be set on a copy of a DataFrame or Series through chained assignment using an inplace method.\n",
      "The behavior will change in pandas 3.0. This inplace method will never work because the intermediate object on which we are setting values always behaves as a copy.\n",
      "\n",
      "For example, when doing 'df[col].method(value, inplace=True)', try using 'df.method({col: value}, inplace=True)' or df[col] = df[col].method(value) instead, to perform the operation inplace on the original object.\n",
      "\n",
      "\n",
      "  df['Social_Support'].replace(Social_Support_Map , inplace=True)\n",
      "C:\\Users\\vimal\\AppData\\Local\\Temp\\ipykernel_22976\\2384732504.py:6: FutureWarning: Downcasting behavior in `replace` is deprecated and will be removed in a future version. To retain the old behavior, explicitly call `result.infer_objects(copy=False)`. To opt-in to the future behavior, set `pd.set_option('future.no_silent_downcasting', True)`\n",
      "  df['Social_Support'].replace(Social_Support_Map , inplace=True)\n"
     ]
    }
   ],
   "source": [
    "Social_Support_Map = {\n",
    "    'Moderate' : 2,\n",
    "    'High' : 3,\n",
    "    'Low' : 1\n",
    "}\n",
    "df['Social_Support'].replace(Social_Support_Map , inplace=True)"
   ]
  },
  {
   "cell_type": "code",
   "execution_count": 196,
   "id": "e3967568",
   "metadata": {},
   "outputs": [],
   "source": [
    "Relationship_Status_Map = {\n",
    "    'Moderate' : 2,\n",
    "    'High' : 3,\n",
    "    'Low' : 1\n",
    "}\n",
    "df['Social_Support'].replace(Social_Support_Map , inplace=True)"
   ]
  },
  {
   "cell_type": "code",
   "execution_count": 197,
   "id": "4b33f6d5",
   "metadata": {},
   "outputs": [
    {
     "data": {
      "text/plain": [
       "Relationship_Status  Risk\n",
       "In a Relationship    1       0.861553\n",
       "                     0       0.138447\n",
       "Married              1       0.857352\n",
       "                     0       0.142648\n",
       "Single               1       0.849453\n",
       "                     0       0.150547\n",
       "Name: proportion, dtype: float64"
      ]
     },
     "execution_count": 197,
     "metadata": {},
     "output_type": "execute_result"
    }
   ],
   "source": [
    "df.groupby('Relationship_Status').Risk.value_counts(normalize=True)"
   ]
  },
  {
   "cell_type": "code",
   "execution_count": 198,
   "id": "5a6a9249",
   "metadata": {},
   "outputs": [
    {
     "data": {
      "text/plain": [
       "Substance_Use\n",
       "1    5903\n",
       "2     699\n",
       "3     405\n",
       "Name: count, dtype: int64"
      ]
     },
     "execution_count": 198,
     "metadata": {},
     "output_type": "execute_result"
    }
   ],
   "source": [
    "df.Substance_Use.value_counts()"
   ]
  },
  {
   "cell_type": "code",
   "execution_count": 199,
   "id": "4114bb4c",
   "metadata": {},
   "outputs": [
    {
     "name": "stdout",
     "output_type": "stream",
     "text": [
      "<class 'pandas.core.frame.DataFrame'>\n",
      "RangeIndex: 7007 entries, 0 to 7006\n",
      "Data columns (total 21 columns):\n",
      " #   Column                       Non-Null Count  Dtype  \n",
      "---  ------                       --------------  -----  \n",
      " 0   Age                          7007 non-null   int64  \n",
      " 1   Course                       7007 non-null   object \n",
      " 2   Gender                       7007 non-null   int64  \n",
      " 3   CGPA                         7007 non-null   float64\n",
      " 4   Stress_Level                 7007 non-null   int64  \n",
      " 5   Depression_Score             7007 non-null   int64  \n",
      " 6   Anxiety_Score                7007 non-null   int64  \n",
      " 7   Sleep_Quality                7007 non-null   int64  \n",
      " 8   Physical_Activity            7007 non-null   int64  \n",
      " 9   Diet_Quality                 7007 non-null   int64  \n",
      " 10  Social_Support               7007 non-null   int64  \n",
      " 11  Relationship_Status          7007 non-null   object \n",
      " 12  Substance_Use                7007 non-null   int64  \n",
      " 13  Counseling_Service_Use       7007 non-null   object \n",
      " 14  Family_History               7007 non-null   object \n",
      " 15  Chronic_Illness              7007 non-null   object \n",
      " 16  Financial_Stress             7007 non-null   int64  \n",
      " 17  Extracurricular_Involvement  7007 non-null   object \n",
      " 18  Semester_Credit_Load         7007 non-null   int64  \n",
      " 19  Residence_Type               7007 non-null   object \n",
      " 20  Risk                         7007 non-null   int64  \n",
      "dtypes: float64(1), int64(13), object(7)\n",
      "memory usage: 1.1+ MB\n"
     ]
    }
   ],
   "source": [
    "df.info()"
   ]
  },
  {
   "cell_type": "code",
   "execution_count": 200,
   "id": "2bcf3c29",
   "metadata": {},
   "outputs": [
    {
     "data": {
      "text/plain": [
       "Counseling_Service_Use\n",
       "Never           4254\n",
       "Occasionally    2075\n",
       "Frequently       678\n",
       "Name: count, dtype: int64"
      ]
     },
     "execution_count": 200,
     "metadata": {},
     "output_type": "execute_result"
    }
   ],
   "source": [
    "df.Counseling_Service_Use.value_counts()"
   ]
  },
  {
   "cell_type": "code",
   "execution_count": 201,
   "id": "273ba5cd",
   "metadata": {},
   "outputs": [
    {
     "name": "stderr",
     "output_type": "stream",
     "text": [
      "C:\\Users\\vimal\\AppData\\Local\\Temp\\ipykernel_22976\\1170066692.py:6: FutureWarning: A value is trying to be set on a copy of a DataFrame or Series through chained assignment using an inplace method.\n",
      "The behavior will change in pandas 3.0. This inplace method will never work because the intermediate object on which we are setting values always behaves as a copy.\n",
      "\n",
      "For example, when doing 'df[col].method(value, inplace=True)', try using 'df.method({col: value}, inplace=True)' or df[col] = df[col].method(value) instead, to perform the operation inplace on the original object.\n",
      "\n",
      "\n",
      "  df['Counseling_Service_Use'].replace(Counseling_Service_Use_map , inplace=True)\n",
      "C:\\Users\\vimal\\AppData\\Local\\Temp\\ipykernel_22976\\1170066692.py:6: FutureWarning: Downcasting behavior in `replace` is deprecated and will be removed in a future version. To retain the old behavior, explicitly call `result.infer_objects(copy=False)`. To opt-in to the future behavior, set `pd.set_option('future.no_silent_downcasting', True)`\n",
      "  df['Counseling_Service_Use'].replace(Counseling_Service_Use_map , inplace=True)\n"
     ]
    }
   ],
   "source": [
    "Counseling_Service_Use_map = {\n",
    "    'Never' : 1,\n",
    "    'Occasionally' : 2,\n",
    "    'Frequently' : 3\n",
    "}\n",
    "df['Counseling_Service_Use'].replace(Counseling_Service_Use_map , inplace=True)"
   ]
  },
  {
   "cell_type": "code",
   "execution_count": 202,
   "id": "abea967c",
   "metadata": {},
   "outputs": [
    {
     "data": {
      "text/plain": [
       "Family_History\n",
       "No     4853\n",
       "Yes    2154\n",
       "Name: count, dtype: int64"
      ]
     },
     "execution_count": 202,
     "metadata": {},
     "output_type": "execute_result"
    }
   ],
   "source": [
    "df.Family_History.value_counts()"
   ]
  },
  {
   "cell_type": "code",
   "execution_count": 203,
   "id": "0a27cded",
   "metadata": {},
   "outputs": [],
   "source": [
    "df['Family_History'] = df['Family_History'].map({\"Yes\": 1, \"No\": 0})"
   ]
  },
  {
   "cell_type": "code",
   "execution_count": 204,
   "id": "62bf8d48",
   "metadata": {},
   "outputs": [
    {
     "name": "stdout",
     "output_type": "stream",
     "text": [
      "<class 'pandas.core.frame.DataFrame'>\n",
      "RangeIndex: 7007 entries, 0 to 7006\n",
      "Data columns (total 21 columns):\n",
      " #   Column                       Non-Null Count  Dtype  \n",
      "---  ------                       --------------  -----  \n",
      " 0   Age                          7007 non-null   int64  \n",
      " 1   Course                       7007 non-null   object \n",
      " 2   Gender                       7007 non-null   int64  \n",
      " 3   CGPA                         7007 non-null   float64\n",
      " 4   Stress_Level                 7007 non-null   int64  \n",
      " 5   Depression_Score             7007 non-null   int64  \n",
      " 6   Anxiety_Score                7007 non-null   int64  \n",
      " 7   Sleep_Quality                7007 non-null   int64  \n",
      " 8   Physical_Activity            7007 non-null   int64  \n",
      " 9   Diet_Quality                 7007 non-null   int64  \n",
      " 10  Social_Support               7007 non-null   int64  \n",
      " 11  Relationship_Status          7007 non-null   object \n",
      " 12  Substance_Use                7007 non-null   int64  \n",
      " 13  Counseling_Service_Use       7007 non-null   int64  \n",
      " 14  Family_History               7007 non-null   int64  \n",
      " 15  Chronic_Illness              7007 non-null   object \n",
      " 16  Financial_Stress             7007 non-null   int64  \n",
      " 17  Extracurricular_Involvement  7007 non-null   object \n",
      " 18  Semester_Credit_Load         7007 non-null   int64  \n",
      " 19  Residence_Type               7007 non-null   object \n",
      " 20  Risk                         7007 non-null   int64  \n",
      "dtypes: float64(1), int64(15), object(5)\n",
      "memory usage: 1.1+ MB\n"
     ]
    }
   ],
   "source": [
    "df.info()"
   ]
  },
  {
   "cell_type": "code",
   "execution_count": 205,
   "id": "84ca6bd1",
   "metadata": {},
   "outputs": [
    {
     "data": {
      "text/plain": [
       "Extracurricular_Involvement\n",
       "Moderate    3432\n",
       "Low         2160\n",
       "High        1415\n",
       "Name: count, dtype: int64"
      ]
     },
     "execution_count": 205,
     "metadata": {},
     "output_type": "execute_result"
    }
   ],
   "source": [
    "df.Extracurricular_Involvement.value_counts()"
   ]
  },
  {
   "cell_type": "code",
   "execution_count": 206,
   "id": "abaa10d6",
   "metadata": {},
   "outputs": [
    {
     "name": "stderr",
     "output_type": "stream",
     "text": [
      "C:\\Users\\vimal\\AppData\\Local\\Temp\\ipykernel_22976\\2629068318.py:6: FutureWarning: A value is trying to be set on a copy of a DataFrame or Series through chained assignment using an inplace method.\n",
      "The behavior will change in pandas 3.0. This inplace method will never work because the intermediate object on which we are setting values always behaves as a copy.\n",
      "\n",
      "For example, when doing 'df[col].method(value, inplace=True)', try using 'df.method({col: value}, inplace=True)' or df[col] = df[col].method(value) instead, to perform the operation inplace on the original object.\n",
      "\n",
      "\n",
      "  df['Extracurricular_Involvement'].replace(Extracurricular_Involvement_Map , inplace=True)\n",
      "C:\\Users\\vimal\\AppData\\Local\\Temp\\ipykernel_22976\\2629068318.py:6: FutureWarning: Downcasting behavior in `replace` is deprecated and will be removed in a future version. To retain the old behavior, explicitly call `result.infer_objects(copy=False)`. To opt-in to the future behavior, set `pd.set_option('future.no_silent_downcasting', True)`\n",
      "  df['Extracurricular_Involvement'].replace(Extracurricular_Involvement_Map , inplace=True)\n"
     ]
    }
   ],
   "source": [
    "Extracurricular_Involvement_Map = {\n",
    "    'Moderate' : 2,\n",
    "    'High' : 3,\n",
    "    'Low' : 1\n",
    "}\n",
    "df['Extracurricular_Involvement'].replace(Extracurricular_Involvement_Map , inplace=True)"
   ]
  },
  {
   "cell_type": "code",
   "execution_count": 207,
   "id": "93ad3c26",
   "metadata": {},
   "outputs": [
    {
     "data": {
      "text/plain": [
       "Chronic_Illness\n",
       "No     6663\n",
       "Yes     344\n",
       "Name: count, dtype: int64"
      ]
     },
     "execution_count": 207,
     "metadata": {},
     "output_type": "execute_result"
    }
   ],
   "source": [
    "df.Chronic_Illness.value_counts()"
   ]
  },
  {
   "cell_type": "code",
   "execution_count": 208,
   "id": "7ba7009c",
   "metadata": {},
   "outputs": [],
   "source": [
    "df['Chronic_Illness'] = df['Chronic_Illness'].map({\"Yes\": 1, \"No\": 0})"
   ]
  },
  {
   "cell_type": "code",
   "execution_count": 209,
   "id": "6edf6c38",
   "metadata": {},
   "outputs": [
    {
     "name": "stdout",
     "output_type": "stream",
     "text": [
      "<class 'pandas.core.frame.DataFrame'>\n",
      "RangeIndex: 7007 entries, 0 to 7006\n",
      "Data columns (total 21 columns):\n",
      " #   Column                       Non-Null Count  Dtype  \n",
      "---  ------                       --------------  -----  \n",
      " 0   Age                          7007 non-null   int64  \n",
      " 1   Course                       7007 non-null   object \n",
      " 2   Gender                       7007 non-null   int64  \n",
      " 3   CGPA                         7007 non-null   float64\n",
      " 4   Stress_Level                 7007 non-null   int64  \n",
      " 5   Depression_Score             7007 non-null   int64  \n",
      " 6   Anxiety_Score                7007 non-null   int64  \n",
      " 7   Sleep_Quality                7007 non-null   int64  \n",
      " 8   Physical_Activity            7007 non-null   int64  \n",
      " 9   Diet_Quality                 7007 non-null   int64  \n",
      " 10  Social_Support               7007 non-null   int64  \n",
      " 11  Relationship_Status          7007 non-null   object \n",
      " 12  Substance_Use                7007 non-null   int64  \n",
      " 13  Counseling_Service_Use       7007 non-null   int64  \n",
      " 14  Family_History               7007 non-null   int64  \n",
      " 15  Chronic_Illness              7007 non-null   int64  \n",
      " 16  Financial_Stress             7007 non-null   int64  \n",
      " 17  Extracurricular_Involvement  7007 non-null   int64  \n",
      " 18  Semester_Credit_Load         7007 non-null   int64  \n",
      " 19  Residence_Type               7007 non-null   object \n",
      " 20  Risk                         7007 non-null   int64  \n",
      "dtypes: float64(1), int64(17), object(3)\n",
      "memory usage: 1.1+ MB\n"
     ]
    }
   ],
   "source": [
    "df.info()"
   ]
  }
 ],
 "metadata": {
  "kernelspec": {
   "display_name": "Python 3",
   "language": "python",
   "name": "python3"
  },
  "language_info": {
   "codemirror_mode": {
    "name": "ipython",
    "version": 3
   },
   "file_extension": ".py",
   "mimetype": "text/x-python",
   "name": "python",
   "nbconvert_exporter": "python",
   "pygments_lexer": "ipython3",
   "version": "3.13.3"
  }
 },
 "nbformat": 4,
 "nbformat_minor": 5
}
